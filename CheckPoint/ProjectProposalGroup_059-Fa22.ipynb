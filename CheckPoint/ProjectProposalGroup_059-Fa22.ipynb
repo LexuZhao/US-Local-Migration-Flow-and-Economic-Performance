{
 "cells": [
  {
   "cell_type": "markdown",
   "metadata": {},
   "source": [
    "# COGS 108 - Final Project Proposal"
   ]
  },
  {
   "cell_type": "markdown",
   "metadata": {},
   "source": [
    "# Names\n",
    "\n",
    "- Gavin Zhao\n",
    "- Simon Zheng\n",
    "- Tunan Li\n",
    "- Yufei Zhang"
   ]
  },
  {
   "cell_type": "markdown",
   "metadata": {},
   "source": [
    "# Research Question"
   ]
  },
  {
   "cell_type": "markdown",
   "metadata": {},
   "source": [
    "How do domestic economic differences contribute to the migration of American citizens among different states? Specifically, how do in-state median salaries, Gross Domestic Product, and housing prices relate to changes in populations in different states in the US from 2010 to 2019? If so, are there any significant trends we can observe?\n",
    "\n"
   ]
  },
  {
   "cell_type": "markdown",
   "metadata": {},
   "source": [
    "## Background and Prior Work"
   ]
  },
  {
   "cell_type": "markdown",
   "metadata": {},
   "source": [
    "Ever since the earliest times, humans have developed a tendency of migrating to better locations to suit their needs. Some decided to leave their homeland in search of better living conditions and opportunities, while some migrants viewed migration as a necessity to escape from negative events such as local conflicts and prosecutions. As The UN Migration Agency (IOM) defines, a migrant is “any person who is moving or has moved across an international border or within a State away from his/her habitual place of residence, regardless of (1) the person’s legal status; (2) whether the movement is voluntary or involuntary; (3) what the causes for the movement are; or (4) what the length of the stay is”[1], and the study of human migration has long interested scholars since the choice of migration involves both individual decisions and  structural forces. However, a 2014 study on migration in the Urban Area of Monywa Township, Myanmar claims that the first and foremost factor that attracts migrants to new areas(also known as “push-pull” factors) “a better living condition”, and the study’s results show that living condition has the “maximum percentage of variance which motivates the people to migrate”[2]. To accurately measure the living conditions of different regions, the United Nation uses the Human Development Index (HDI)[3], where economic growth contributes most significantly to the HDI. This is why we decided to focus on economic factors that could possibly influence migration, considering that economic factors are not only crucial to determining the HDI but also the most measurable factors that can be statistically analyzed. \n",
    "\n",
    "To elaborate on the above, previous work has examined the state-to-state migration patterns in the housing bust from 2006-2009 using regression analysis and found that falling house prices have a significant impact on state-to-state migration[4]. The out-migration rate is reduced when the housing price falls. They also found that negative equity reduces the national state-to-state migration rate. However, those works are done based on outdated data without considering the influence of some other financial factors such as the average salaries of the state. A 2013 study also discovers the necessity and interest in looking at how those factors (GDP, median salary, and housing price) can impact state-to-state migration[5]. We hope that connecting financial factors to the population data gives us a better view of the trends in migration. Learning how those financial variables are associated with migration helps to understand how people make decisions to move among states. By identifying trends in past migration, the study also potentially helps forecasting future migration trends. \n",
    "\n",
    "References:\n",
    "1. Migrants. International Organization for Migration. (n.d.). Retrieved October 24, 2022, from https://www.iom.int/ \n",
    "2. Thet, K. K. (2014). Pull and push factors of migration: A case study in the urban Area of Monywa Township, Myanmar. News from the World of Statistics, 1(24), 1-14.\n",
    "3. Nations, U. (2022, October 13). Human development index. Human Development Reports. Retrieved October 24, 2022, from https://hdr.undp.org/data-center/human-development-index#/indicies/HDI \n",
    "4. Journal of Travel Medicine, Volume 25, Issue 1, 2018, tay040 (20 Nov 2018) https://academic.oup.com/jtm/article/25/1/tay040/5056445\n",
    "5. Alicia Sasser Modestino, Julia Dennett, Volume 43, Issue 2, Pages 322-337 (March 2013) https://www.sciencedirect.com/science/article/pii/S0166046212000725"
   ]
  },
  {
   "cell_type": "markdown",
   "metadata": {},
   "source": [
    "# Hypothesis\n"
   ]
  },
  {
   "cell_type": "markdown",
   "metadata": {},
   "source": [
    "We hypothesize that economic performance (in-state median salary and Gross Domestic Product) would be positively correlated with increased total population migrating from different states and abroad to the current state of the United States, whereas increasing housing prices will lower the population. When citizens have higher life quality bolstered by satisfying economic conditions and fair living expenditure in where they live, they tend to maintain their residency in state, and leave otherwise, because we assume financial condition is crucial to citizen’s life in the long-term."
   ]
  },
  {
   "cell_type": "markdown",
   "metadata": {},
   "source": [
    "# Data"
   ]
  },
  {
   "cell_type": "markdown",
   "metadata": {},
   "source": [
    "Our ideal data set includes precisely quantified US migration flows from 2010 to 2019 with adequate sample size (the number of states being evaluated), and the official economic performances of each state. \n",
    "\n",
    "The variables include:\n",
    "\n",
    "Current state names, year of measurement, population of the current states, number of people residing in the same house and state, number of people from abroad and different states migrate to the current state. This main dataset of population is from the US Census, which can be found on the American Community Survey website (US Migration Flows in 10 years). The sample variability can lead to roughly 90% of margin of error, in addition to some potential nonsampling error.\n",
    "Number of observations is 52  (states in the US over 2010-2019).\n",
    "\n",
    "Data Sets:\n",
    "1. Median household income by states. The sampling error can be found here: https://www2.census.gov/programs-surveys/cps/techdocs/cpsmar22.pdf\n",
    "https://www.census.gov/data/tables/time-series/demo/income-poverty/historical-income-households.html\n",
    "4,187 observations in families of each state of the US over 1984-2021.\n",
    "\n",
    "2. Gross Domestic Product (GDP) of each state of interest.\n",
    "https://knoema.com/rhjjehg/list-of-us-states-by-gdp-2010-2020\n",
    "https://www.kaggle.com/datasets/davidbroberts/us-gdp-by-state-19972020\n",
    "32 observations in GDP of each state in the US over 1997-2020.\n",
    "\n",
    "3. Average housing price of the current state in the given year.\n",
    "https://www.census.g ov/topics/housing.html\n",
    "https://fred.stlouisfed.org/series/ASPUS\n",
    "525,000 observations in housing prices in the US over 1963-2022.\n",
    "\n",
    "All the data were stored or converted to in csv files, with mostly numerical values and texts labeling above variables."
   ]
  },
  {
   "cell_type": "markdown",
   "metadata": {},
   "source": [
    "# Ethics & Privacy"
   ]
  },
  {
   "cell_type": "markdown",
   "metadata": {},
   "source": [
    "Due to the nature of data we investigated and analyzed, none of these data include personally identifiable information as these data only display counts from the mass population and do not disclose private information.One possible bias we believe is important to address is that we may assume States which are more economically prosperous(higher GDP, higher average income, etc) would attract more migrants. Therefore, we might overestimate the migration rate for migrants moving to economically prosperous states. \n",
    "\n",
    "Another consideration, our conclusion might not be as plausible for conditions in 2022 if we included data only from 2010 to 2019, especially for the relationship between housing prices and migration. Housing prices in the United States had always been fluctuating due to various reasons, which means that our data can be outmoded and no longer serve as credible data to tell us the descriptive information. In addition, the exploratory process will be unmatched to the updated data .\n",
    "\n",
    "Furthermore, we are also aware of unintended results of our interpretation. If we have concluded that there are factors such as the GDP that affects the migration rate the most, people might interpret it in a way that causes them to choose to migrate to cities with higher GDPs as their first choice, which could further influence this state’s GDP to increase, thus forming a vicious loop. The potential of our interpretation leading to imbalance of population between different States is definitely a possible influence to consider, thus we should state in the end of our conclusion that the interpretation we provide only indicates a possible correlation, instead of a direct causation."
   ]
  },
  {
   "cell_type": "markdown",
   "metadata": {},
   "source": [
    "# Team Expectations "
   ]
  },
  {
   "cell_type": "markdown",
   "metadata": {},
   "source": [
    "Every team member should actively participate in the project by regularly attending meetings and complete assigned tasks on time. Every team member should actively participate in discussions in meeting and contribute ideas, code, graph making as well as analysis to the project. Team members are expected to communicate actively through the groupchat we created and check the messages and respond within 24 hours period. Each member should remain respectful to others' identity and opinions. If conflict arises, one should communicate openly and appropriately in meetings or the group chat. If any member has an emergency that prevents them from attending the meeting or  finishing their tasks on time, one should ask for absence or extended deadline with appropriate reason at least 24 hours in advance. If anyone violates the expectations, they would be notified through email and message. If no improvement is shown, we will email the professor."
   ]
  },
  {
   "cell_type": "markdown",
   "metadata": {},
   "source": [
    "# Project Timeline Proposal"
   ]
  },
  {
   "cell_type": "markdown",
   "metadata": {},
   "source": [
    "| Meeting Date  | Meeting Time| Completed Before Meeting  | Discuss at Meeting |\n",
    "|---|---|---|---|\n",
    "| 10/23  |  5 PM | Read & Think about COGS 108 expectations; brainstorm topics/questions  | Determine best form of communication; Discuss and decide on final project topic; discuss hypothesis; begin background research and also the ethics | \n",
    "| 10/24  |  10 AM | Do the data research and looking for the raw data | Discuss if the datasets is applicable and draft project proposal | \n",
    "| 10/24  | 11 pM  | Finish the Proposal  | Discuss data cleanning and what is the best tool to analyze this set of data; Generalize the statistics of the cleanned data. |\n",
    "| 11/7  | 10 PM  | Wrangle; EDA | Review/Edit wrangling/Interpret the data; Discuss the best approach to exploratory so that it’s easier to understand the huge amount of data. Complete project check-in |\n",
    "| 11/15  | 10 PM  | Finishing data cleanning/EDA; Begin Analysis | Discuss/edit both descriptive and exploratory Analysis; edit full project, check if our result can be understandable and straightforward |\n",
    "| 11/21  | 10 PM  | Complete analysis; results/final conclusion/discussion about how this result can be bias in any sense| Comment our result. Complete project check-in |\n",
    "| 12/1  | Before 11:59 PM  | NA | Turn in Final Project & Group Project Surveys |"
   ]
  },
  {
   "cell_type": "code",
   "execution_count": null,
   "metadata": {},
   "outputs": [],
   "source": []
  }
 ],
 "metadata": {
  "kernelspec": {
   "display_name": "Python 3",
   "language": "python",
   "name": "python3"
  },
  "language_info": {
   "codemirror_mode": {
    "name": "ipython",
    "version": 3
   },
   "file_extension": ".py",
   "mimetype": "text/x-python",
   "name": "python",
   "nbconvert_exporter": "python",
   "pygments_lexer": "ipython3",
   "version": "3.8.8"
  }
 },
 "nbformat": 4,
 "nbformat_minor": 2
}
